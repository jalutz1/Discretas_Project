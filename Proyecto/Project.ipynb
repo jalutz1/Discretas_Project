{
 "cells": [
  {
   "cell_type": "markdown",
   "metadata": {},
   "source": []
  },
  {
   "cell_type": "markdown",
   "metadata": {},
   "source": [
    "\n",
    "# Knuth-Morris-Pratt (KMP) Algorithm \n"
   ]
  },
  {
   "cell_type": "code",
   "execution_count": 1,
   "metadata": {},
   "outputs": [
    {
     "name": "stdout",
     "output_type": "stream",
     "text": [
      "Found pattern at index 0\n",
      "Found pattern at index 9\n",
      "Found pattern at index 13\n"
     ]
    }
   ],
   "source": [
    "# Python program for KMP Algorithm\n",
    "def KMPSearch(pat, txt):\n",
    "    M = len(pat)\n",
    "    N = len(txt)\n",
    " \n",
    "    # create lps[] that will hold the longest prefix suffix\n",
    "    # values for pattern\n",
    "    lps = [0]*M\n",
    "    j = 0 # index for pat[]\n",
    " \n",
    "    # Preprocess the pattern (calculate lps[] array)\n",
    "    computeLPSArray(pat, M, lps)\n",
    " \n",
    "    i = 0 # index for txt[]\n",
    "    while i < N:\n",
    "        if pat[j] == txt[i]:\n",
    "            i += 1\n",
    "            j += 1\n",
    " \n",
    "        if j == M:\n",
    "            print (\"Found pattern at index\", str(i-j))\n",
    "            j = lps[j-1]\n",
    " \n",
    "        # mismatch after j matches\n",
    "        elif i < N and pat[j] != txt[i]:\n",
    "            # Do not match lps[0..lps[j-1]] characters,\n",
    "            # they will match anyway\n",
    "            if j != 0:\n",
    "                j = lps[j-1]\n",
    "            else:\n",
    "                i += 1\n",
    " \n",
    "def computeLPSArray(pat, M, lps):\n",
    "    len = 0 # length of the previous longest prefix suffix\n",
    " \n",
    "    lps[0] # lps[0] is always 0\n",
    "    i = 1\n",
    " \n",
    "    # the loop calculates lps[i] for i = 1 to M-1\n",
    "    while i < M:\n",
    "        if pat[i]== pat[len]:\n",
    "            len += 1\n",
    "            lps[i] = len\n",
    "            i += 1\n",
    "        else:\n",
    "            # This is tricky. Consider the example.\n",
    "            # AAACAAAA and i = 7. The idea is similar\n",
    "            # to search step.\n",
    "            if len != 0:\n",
    "                len = lps[len-1]\n",
    " \n",
    "                # Also, note that we do not increment i here\n",
    "            else:\n",
    "                lps[i] = 0\n",
    "                i += 1\n",
    " \n",
    "txt = \"AABAACAADAABAAABAA\"\n",
    "pat = \"AABA\"\n",
    "KMPSearch(pat, txt)"
   ]
  },
  {
   "cell_type": "markdown",
   "metadata": {},
   "source": [
    "# NAIVE Algorithm"
   ]
  },
  {
   "cell_type": "code",
   "execution_count": 2,
   "metadata": {},
   "outputs": [],
   "source": [
    "# Python3 program for Naive Pattern\n",
    "# Searching algorithm\n",
    "def search(pat, txt):\n",
    "\tM = len(pat)\n",
    "\tN = len(txt)\n",
    "\n",
    "\t# A loop to slide pat[] one by one */\n",
    "\tfor i in range(N - M + 1):\n",
    "\t\tj = 0\n",
    "\t\t\n",
    "\t\t# For current index i, check\n",
    "\t\t# for pattern match */\n",
    "\t\twhile(j < M):\n",
    "\t\t\tif (txt[i + j] != pat[j]):\n",
    "\t\t\t\tbreak\n",
    "\t\t\tj += 1\n",
    "\n",
    "\t\tif (j == M):\n",
    "\t\t\tprint(\"Pattern found at index \", i)\n",
    "\n",
    "# Driver Code\n",
    "if __name__ == '__main__':\n",
    "\ttxt = \"AABAACAADAABAAABAA\"\n",
    "\tpat = \"AABA\"\n",
    "\tsearch(pat, txt)"
   ]
  }
 ],
 "metadata": {
  "interpreter": {
   "hash": "aee8b7b246df8f9039afb4144a1f6fd8d2ca17a180786b69acc140d282b71a49"
  },
  "kernelspec": {
   "display_name": "Python 3.10.2 64-bit",
   "language": "python",
   "name": "python3"
  },
  "language_info": {
   "codemirror_mode": {
    "name": "ipython",
    "version": 3
   },
   "file_extension": ".py",
   "mimetype": "text/x-python",
   "name": "python",
   "nbconvert_exporter": "python",
   "pygments_lexer": "ipython3",
   "version": "3.10.2"
  },
  "orig_nbformat": 4
 },
 "nbformat": 4,
 "nbformat_minor": 2
}
