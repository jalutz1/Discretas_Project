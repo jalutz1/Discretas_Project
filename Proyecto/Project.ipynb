{
 "cells": [
  {
   "cell_type": "markdown",
   "metadata": {},
   "source": [
    "<h2 align=\"center\">Universidad Nacional De Costa Rica</h2 align=\"center\">\n",
    "\n",
    " \n",
    "\n",
    " \n",
    "\n",
    "<h3 align =\"center\">Estructuras Discretas </h3 align =\"center\">\n",
    "\n",
    " \n",
    "\n",
    "<h4><center> Grupo 3-1pm <center></h4>\n",
    " \n",
    "\n",
    "<h5><center>Integrantes: <h5>\n",
    " \n",
    "<h5>  Ignacio Ledezma Hidalgo </h5>\n",
    "<h5> Jose Alberto Lutz Rodríguez </h5>\n",
    "<h5> Eduardo Ojeda Paladino </h5>\n",
    "<h5> Esteban Paniagua Chacón </h5>\n",
    "\n",
    " \n",
    "</h5> Profesor: Carlos Loría Saenz </center></h5>\n"
   ]
  },
  {
   "cell_type": "markdown",
   "metadata": {},
   "source": [
    "<h2>Abstract<h2>"
   ]
  },
  {
   "cell_type": "markdown",
   "metadata": {},
   "source": [
    "<h2>Keywords</h2>"
   ]
  },
  {
   "cell_type": "markdown",
   "metadata": {},
   "source": [
    "<h2>Información General</h2>\n",
    "\n",
    "<p><b>Fuerza Bruta:</b> Entiéndase como fuerza bruta, el agotamiento de todas las múltiples opciones que hay para ejecutar un proceso. Para que se entienda de manera más simple, es probar todas las posibles llaves que abren una puerta en específico. \n",
    "\n",
    "<b>String Matching:</b> Es un problema que consiste en encontrar una sub-cadena de caracteres dentro de otra cadena o texto, existen varios algoritmos que solucionan este problema cada uno tratando de que sea la más eficiente posible. \n",
    "\n",
    "Algunos de los algoritmos que ayudan a encontrar una cadena de caracteres dentro de algún texto pueden ser los siguientes: </p>\n"
   ]
  },
  {
   "cell_type": "markdown",
   "metadata": {},
   "source": [
    "\n",
    "# Knuth-Morris-Pratt (KMP) Algorithm\n",
    "\n",
    "<p><b>Método KMP (Knuth-Morris-Pratt):</b> El método/algoritmo KMP busca patrones en una cadena específica, y se realizan observaciones basadas en problemas encontrados. Su objetivo es determinar si el patrón se encuentra en la cadena. </p>\n"
   ]
  },
  {
   "cell_type": "code",
   "execution_count": 1,
   "metadata": {},
   "outputs": [
    {
     "name": "stdout",
     "output_type": "stream",
     "text": [
      "Found pattern at index 0\n",
      "Found pattern at index 9\n",
      "Found pattern at index 13\n"
     ]
    }
   ],
   "source": [
    "# Python program for KMP Algorithm\n",
    "def KMPSearch(pat, txt):\n",
    "    M = len(pat)\n",
    "    N = len(txt)\n",
    " \n",
    "    # create lps[] that will hold the longest prefix suffix\n",
    "    # values for pattern\n",
    "    lps = [0]*M\n",
    "    j = 0 # index for pat[]\n",
    " \n",
    "    # Preprocess the pattern (calculate lps[] array)\n",
    "    computeLPSArray(pat, M, lps)\n",
    " \n",
    "    i = 0 # index for txt[]\n",
    "    while i < N:\n",
    "        if pat[j] == txt[i]:\n",
    "            i += 1\n",
    "            j += 1\n",
    " \n",
    "        if j == M:\n",
    "            print (\"Found pattern at index\", str(i-j))\n",
    "            j = lps[j-1]\n",
    " \n",
    "        # mismatch after j matches\n",
    "        elif i < N and pat[j] != txt[i]:\n",
    "            # Do not match lps[0..lps[j-1]] characters,\n",
    "            # they will match anyway\n",
    "            if j != 0:\n",
    "                j = lps[j-1]\n",
    "            else:\n",
    "                i += 1\n",
    " \n",
    "def computeLPSArray(pat, M, lps):\n",
    "    len = 0 # length of the previous longest prefix suffix\n",
    " \n",
    "    lps[0] # lps[0] is always 0\n",
    "    i = 1\n",
    " \n",
    "    # the loop calculates lps[i] for i = 1 to M-1\n",
    "    while i < M:\n",
    "        if pat[i]== pat[len]:\n",
    "            len += 1\n",
    "            lps[i] = len\n",
    "            i += 1\n",
    "        else:\n",
    "            # This is tricky. Consider the example.\n",
    "            # AAACAAAA and i = 7. The idea is similar\n",
    "            # to search step.\n",
    "            if len != 0:\n",
    "                len = lps[len-1]\n",
    " \n",
    "                # Also, note that we do not increment i here\n",
    "            else:\n",
    "                lps[i] = 0\n",
    "                i += 1\n",
    " \n",
    "txt = \"AABAACAADAABAAABAA\"\n",
    "pat = \"AABA\"\n",
    "KMPSearch(pat, txt)"
   ]
  },
  {
   "cell_type": "markdown",
   "metadata": {},
   "source": [
    "# NAIVE Algorithm\n",
    "\n",
    "<p><b>Método Naive (Fuerza Bruta):</b> Este algoritmo realiza una búsqueda de patrón en O(mn) y consiste en n realizar una comparación de todas las posiciones de texto inicializando en 0 hasta n-m, saltando al siguiente carácter una vez que se realice la comparación de ocurrencia. </p>"
   ]
  },
  {
   "cell_type": "code",
   "execution_count": 2,
   "metadata": {},
   "outputs": [],
   "source": [
    "# Python3 program for Naive Pattern\n",
    "# Searching algorithm\n",
    "def search(pat, txt):\n",
    "\tM = len(pat)\n",
    "\tN = len(txt)\n",
    "\n",
    "\t# A loop to slide pat[] one by one */\n",
    "\tfor i in range(N - M + 1):\n",
    "\t\tj = 0\n",
    "\t\t\n",
    "\t\t# For current index i, check\n",
    "\t\t# for pattern match */\n",
    "\t\twhile(j < M):\n",
    "\t\t\tif (txt[i + j] != pat[j]):\n",
    "\t\t\t\tbreak\n",
    "\t\t\tj += 1\n",
    "\n",
    "\t\tif (j == M):\n",
    "\t\t\tprint(\"Pattern found at index \", i)\n",
    "\n",
    "# Driver Code\n",
    "if __name__ == '__main__':\n",
    "\ttxt = \"AABAACAADAABAAABAA\"\n",
    "\tpat = \"AABA\"\n",
    "\tsearch(pat, txt)"
   ]
  },
  {
   "cell_type": "markdown",
   "metadata": {},
   "source": [
    "# Rabin-Karp Algorithm\n",
    "\n",
    "<p><b>Método de Boyer – Moore:</b> Se realiza una comparación de derecha a izquierda. Si hay una discrepancia en el último carácter a encontrar y el carácter del texto no aparece en toda la subcadena, entonces éste se desliza n posiciones y no realiza ninguna otra comparación. En el peor caso el coste de este algoritmo es de O(mn), sería aquel en el que encontramos el patrón en todas las subcadenas. </p>"
   ]
  },
  {
   "cell_type": "code",
   "execution_count": null,
   "metadata": {},
   "outputs": [],
   "source": [
    "\n",
    "# d is the number of characters in the input alphabet\n",
    "d = 256\n",
    " \n",
    "# pat  -> pattern\n",
    "# txt  -> text\n",
    "# q    -> A prime number\n",
    " \n",
    "def search(pat, txt, q):\n",
    "    M = len(pat)\n",
    "    N = len(txt)\n",
    "    i = 0\n",
    "    j = 0\n",
    "    p = 0    # hash value for pattern\n",
    "    t = 0    # hash value for txt\n",
    "    h = 1\n",
    " \n",
    "    # The value of h would be \"pow(d, M-1)%q\"\n",
    "    for i in range(M-1):\n",
    "        h = (h*d)%q\n",
    " \n",
    "    # Calculate the hash value of pattern and first window\n",
    "    # of text\n",
    "    for i in range(M):\n",
    "        p = (d*p + ord(pat[i]))%q\n",
    "        t = (d*t + ord(txt[i]))%q\n",
    " \n",
    "    # Slide the pattern over text one by one\n",
    "    for i in range(N-M+1):\n",
    "        # Check the hash values of current window of text and\n",
    "        # pattern if the hash values match then only check\n",
    "        # for characters one by one\n",
    "        if p==t:\n",
    "            # Check for characters one by one\n",
    "            for j in range(M):\n",
    "                if txt[i+j] != pat[j]:\n",
    "                    break\n",
    "                else: j+=1\n",
    " \n",
    "            # if p == t and pat[0...M-1] = txt[i, i+1, ...i+M-1]\n",
    "            if j==M:\n",
    "                print (\"Pattern found at index \" + str(i))\n",
    " \n",
    "        # Calculate hash value for next window of text: Remove\n",
    "        # leading digit, add trailing digit\n",
    "        if i < N-M:\n",
    "            t = (d*(t-ord(txt[i])*h) + ord(txt[i+M]))%q\n",
    " \n",
    "            # We might get negative values of t, converting it to\n",
    "            # positive\n",
    "            if t < 0:\n",
    "                t = t+q\n",
    " \n",
    "# Driver Code\n",
    "txt = \"GEEKS FOR GEEKS\"\n",
    "pat = \"GEEK\"\n",
    " \n",
    "# A prime number\n",
    "q = 101\n",
    " \n",
    "# Function Call\n",
    "search(pat,txt,q)"
   ]
  },
  {
   "cell_type": "markdown",
   "metadata": {},
   "source": [
    "# Boyer-Moore Algorithm\n",
    "\n",
    "<p><b>Método Rabin-Karp:</b> Busca un conjunto de patrones mediante la función hash (convierte un elemento A en un elemento B, sirven para codificar). Se utiliza en la búsqueda de varias subcadenas. </p>"
   ]
  },
  {
   "cell_type": "code",
   "execution_count": 1,
   "metadata": {},
   "outputs": [
    {
     "name": "stdout",
     "output_type": "stream",
     "text": [
      "Pattern occur at shift = 4\n"
     ]
    }
   ],
   "source": [
    "NO_OF_CHARS = 256\n",
    "\n",
    "def badCharHeuristic(string, size):\n",
    "\tbadChar = [-1]*NO_OF_CHARS\n",
    "\tfor i in range(size):\n",
    "\t\tbadChar[ord(string[i])] = i;\n",
    "\treturn badChar\n",
    "\n",
    "def search(txt, pat):\n",
    "\tm = len(pat)\n",
    "\tn = len(txt)\n",
    "\tbadChar = badCharHeuristic(pat, m)\n",
    "\ts = 0\n",
    "\twhile(s <= n-m):\n",
    "\t\tj = m-1\n",
    "\t\twhile j>=0 and pat[j] == txt[s+j]:\n",
    "\t\t\tj -= 1\n",
    "\t\tif j<0:\n",
    "\t\t\tprint(\"Pattern occur at shift = {}\".format(s))\n",
    "\t\t\ts += (m-badChar[ord(txt[s+m])] if s+m<n else 1)\n",
    "\t\telse:\n",
    "\t\t\ts += max(1, j-badChar[ord(txt[s+j])])\n",
    "            \n",
    "def main():\n",
    "\ttxt = \"ABAAABCD\"\n",
    "\tpat = \"ABC\"\n",
    "\tsearch(txt, pat)\n",
    "if __name__ == '__main__':\n",
    "\tmain()\n",
    "\n"
   ]
  },
  {
   "cell_type": "markdown",
   "metadata": {},
   "source": [
    "<h2>Referencias Biblográficas</h2>\n",
    "\n",
    "<href><br>https://learntutorials.net/es/algorithm/topic/10811/algoritmo-de-knuth-morris-pratt--kmp- </br></href>\n",
    "<href> <br>https://es.wikipedia.org/wiki/Algoritmo_Knuth-Morris-Pratt#:~:text=El%20algoritmo%20KMP%20es%20un,basada%20en%20los%20fallos%20previos. </br> </href>\n",
    "<href><br>https://programmerclick.com/article/1611445773/  </br></href>\n",
    "<href><br>https://ilusionity.com/2616-the-rabin-karp-algorithm-explained </br></href>\n",
    "<href><br>https://es.frwiki.wiki/wiki/Algorithme_de_Rabin-Karp </br></href>"
   ]
  },
  {
   "cell_type": "markdown",
   "metadata": {},
   "source": []
  }
 ],
 "metadata": {
  "interpreter": {
   "hash": "aee8b7b246df8f9039afb4144a1f6fd8d2ca17a180786b69acc140d282b71a49"
  },
  "kernelspec": {
   "display_name": "Python 3.10.2 64-bit",
   "language": "python",
   "name": "python3"
  },
  "language_info": {
   "codemirror_mode": {
    "name": "ipython",
    "version": 3
   },
   "file_extension": ".py",
   "mimetype": "text/x-python",
   "name": "python",
   "nbconvert_exporter": "python",
   "pygments_lexer": "ipython3",
   "version": "3.10.2"
  },
  "orig_nbformat": 4
 },
 "nbformat": 4,
 "nbformat_minor": 2
}
